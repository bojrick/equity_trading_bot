{
 "metadata": {
  "language_info": {
   "codemirror_mode": {
    "name": "ipython",
    "version": 3
   },
   "file_extension": ".py",
   "mimetype": "text/x-python",
   "name": "python",
   "nbconvert_exporter": "python",
   "pygments_lexer": "ipython3",
   "version": "3.8.5-final"
  },
  "orig_nbformat": 2,
  "kernelspec": {
   "name": "python3",
   "display_name": "Python 3",
   "language": "python"
  }
 },
 "nbformat": 4,
 "nbformat_minor": 2,
 "cells": [
  {
   "cell_type": "code",
   "execution_count": 12,
   "metadata": {},
   "outputs": [
    {
     "output_type": "stream",
     "name": "stdout",
     "text": [
      "CREATE TABLE unfiltered (\n    beg_time bigint NOT NULL,\n    end_time bigint NOT NULL,\n    symbol char NOT NULL,\n    volume numeric NOT NULL,\n    acc_vol numeric NOT NULL,\n    off_open_price money NOT NULL,\n    vwap numeric NOT NULL,\n    open_price money NOT NULL,\n    high_price money NOT NULL,\n    low_price money NOT NULL,\n    close_price money NOT NULL,\n    avg_price money NOT NULL);\nINSET INTO unfiltered(beg_time,end_time,symbol,volume,acc_vol,off_open_price,vwap,open_price,high_price,low_price,close_price,avg_price) VALUES (s,e,T,v,av,op,vw,o,h,l,c,a)\n"
     ]
    }
   ],
   "source": [
    "columns = {'beg_time':'s','end_time':'e','symbol':'T','volume':'v','acc_vol':'av','off_open_price':'op','vwap':'vw','open_price':'o','high_price':'h','low_price':'l','close_price':'c','avg_price':'a'}\n",
    "col_keys = ','.join(list(columns.keys()))\n",
    "cols = list(columns.keys())\n",
    "# vals = ','.join([am_bar[col] for col in list(columns.values())])\n",
    "insert_query = f\"\"\"INSET INTO unfiltered({col_keys}) VALUES ({vals})\"\"\"\n",
    "\n",
    "table = f\"\"\"CREATE TABLE unfiltered_new (\n",
    "    {cols[0]} bigint NOT NULL,\n",
    "    {cols[1]} bigint NOT NULL,\n",
    "    {cols[2]} text NOT NULL,\n",
    "    {cols[3]} numeric NOT NULL,\n",
    "    {cols[4]} numeric NOT NULL,\n",
    "    {cols[5]} money NOT NULL,\n",
    "    {cols[6]} numeric NOT NULL,\n",
    "    {cols[7]} money NOT NULL,\n",
    "    {cols[8]} money NOT NULL,\n",
    "    {cols[9]} money NOT NULL,\n",
    "    {cols[10]} money NOT NULL,\n",
    "    {cols[11]} money NOT NULL);\"\"\"\n",
    "\n",
    "print(table)\n",
    "print(insert_query)"
   ]
  },
  {
   "cell_type": "code",
   "execution_count": null,
   "metadata": {},
   "outputs": [],
   "source": []
  }
 ]
}